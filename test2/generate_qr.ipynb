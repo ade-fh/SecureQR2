{
 "cells": [
  {
   "cell_type": "code",
   "execution_count": 1,
   "metadata": {},
   "outputs": [],
   "source": [
    "import numpy as np\n",
    "import matplotlib.pyplot as plt\n",
    "import qrcode\n",
    "from PIL import Image\n",
    "import hashlib\n",
    "import random\n",
    "\n",
    "SECRET = 'rispro'\n",
    "# SALT = ''.join(format(ord(x), 'x') for x in SECRET)\n",
    "\n",
    "def generate_watermark(data,secret,quant=16,size=(100,100),rprop=100):\n",
    "    dist  = [int((i+0.5)*256/quant) for i in range(quant)]    \n",
    "    s = data+secret    \n",
    "    seed = abs(int(hashlib.sha1(s.encode(\"utf-8\")).hexdigest(), 16))%2**32\n",
    "    random.seed(seed) \n",
    "    p=random.choices([i for i in range(rprop)], k = quant)\n",
    "    watermark = random.choices(dist,weights=p,k=size[0]**2)\n",
    "    watermark = np.array(watermark).reshape(size)\n",
    "    return watermark.astype('uint8')\n",
    "\n",
    "def make_secureQR(data:str,secret:str=SECRET,                  \n",
    "                  pct_wm_size:int=0.3, \n",
    "                  bx_size:int=10,\n",
    "                  border:int=4,\n",
    "                  qr_ver:int=None,\n",
    "                  **kwargs)-> np.ndarray:\n",
    "\n",
    "    img = qrcode.make(data,version=qr_ver, box_size=bx_size, border=border, error_correction=qrcode.constants.ERROR_CORRECT_H)\n",
    "    img = np.asanyarray(img).astype('uint8')*255\n",
    "    \n",
    "    wm_size = (img.shape[0]//bx_size - 2*border) * pct_wm_size\n",
    "    wm_size = int(wm_size)\n",
    "    if not wm_size%2==0: wm_size-=1 \n",
    "\n",
    "    wm_size *= bx_size\n",
    "    size = (wm_size,wm_size)\n",
    "    watermark = generate_watermark(data,secret,size=size,**kwargs)\n",
    "    wm = np.pad(watermark, bx_size//2, constant_values=255)\n",
    "\n",
    "    # add border watermark 8\n",
    "    length = wm.shape[0] \n",
    "    loc = img.shape[0]//2 - length//2\n",
    "    img[loc:loc+length,loc:loc+length]= wm\n",
    "    img[0] = 0\n",
    "    img[369] = 0\n",
    "    for i in range(370):\n",
    "        img[i][0] = 0\n",
    "        img[i][369] = 0\n",
    "    return img, watermark\n",
    "\n",
    "import cv2\n",
    "import numpy as np\n",
    "from scipy.special import rel_entr\n",
    "from scipy.spatial import distance\n",
    "\n",
    "def read_sqr(im):\n",
    "    qrDecoder = cv2.QRCodeDetector()\n",
    "    \n",
    "    myqr = qrDecoder.detectAndDecode(im)\n",
    "    if myqr[0]==\"\": \n",
    "        im_filter = np.copy(im) \n",
    "        myqr = qrDecoder.detectAndDecode(cv2.medianBlur(im_filter,ksize=3))\n",
    "    \n",
    "    top = myqr[1][0][0].astype(int)\n",
    "    bottom = myqr[1][0][2].astype(int)+1\n",
    "    qim = im[top[0]:bottom[0],top[1]:bottom[1]].astype(float)\n",
    "\n",
    "    # # normalize\n",
    "    qim -= qim.min()\n",
    "    qim *= 255/qim.max()\n",
    "\n",
    "    return myqr[0],qim\n",
    "\n",
    "def JS_div(p,q):\n",
    "    m = (p+q)/2\n",
    "    div = 0.5*rel_entr(p,m) + 0.5*rel_entr(q,m)\n",
    "    return div.sum()\n",
    "\n",
    "def compute_KL(qim,scan,quant=16,pct=0.2,metric='JS'):\n",
    "    pq = []\n",
    "    for q in [qim,scan]:\n",
    "        l = q.shape[0]\n",
    "        half = l//2\n",
    "        r = int(0.5*pct*l)             \n",
    "        wtm = q[half-r:half+r,half-r:half+r]\n",
    "        wtm = cv2.Sobel(wtm,cv2.CV_64F,1,1,ksize=3)\n",
    "        dist, *note = np.histogram(wtm.ravel(),bins=quant)\n",
    "        p = dist/dist.sum()\n",
    "        pq.append(p)        \n",
    "    return rel_entr(*pq).sum() if metric==\"KL\" else distance.jensenshannon(*pq), pq  \n",
    "\n",
    "def compare2template(im, qr_ver = 3, quant=16, pct=0.2, metric='JS'):\n",
    "    data ,qim_scan = read_sqr(im) \n",
    "    img,_ = make_secureQR(data, qr_ver = qr_ver, quant=quant)\n",
    "    _,qim = read_sqr(img) \n",
    "    return (data,)+compute_KL(qim,qim_scan,quant,pct,metric)"
   ]
  },
  {
   "cell_type": "code",
   "execution_count": 4,
   "metadata": {},
   "outputs": [],
   "source": [
    "# generate batch of images\n",
    "import pathlib\n",
    "import numpy as np\n",
    "from pathlib import Path\n",
    "\n",
    "def generate_batch(path):\n",
    "    path =Path(path)\n",
    "    rows = []\n",
    "    for i in range(100): \n",
    "        print(i,end=' ')\n",
    "        for j in range(2):\n",
    "            col = []\n",
    "            for k in range(5):\n",
    "                img,wtm = make_secureQR(f'data_{i+1:03}',qr_ver = 3, quant=16)\n",
    "                col.append(img)\n",
    "            rows.append(np.hstack(col))\n",
    "        if (i+1)%4 ==0:\n",
    "            rows.append(np.ones((10,rows[0].shape[1]),dtype='uint8'))\n",
    "            grid = np.vstack(rows)\n",
    "\n",
    "            Image.fromarray(grid).save(path/f\"{i-2:03}_{i+1}.pdf\")\n",
    "            rows=[]"
   ]
  },
  {
   "cell_type": "code",
   "execution_count": 25,
   "metadata": {},
   "outputs": [],
   "source": [
    "img,wtm = make_secureQR(f'data_{1:03}',qr_ver = 3, quant=8)\n",
    "# resized_qr = cv2.resize(img, (500, 500), interpolation=cv2.INTER_NEAREST)"
   ]
  },
  {
   "cell_type": "code",
   "execution_count": 27,
   "metadata": {},
   "outputs": [
    {
     "data": {
      "text/plain": [
       "(370, 370)"
      ]
     },
     "execution_count": 27,
     "metadata": {},
     "output_type": "execute_result"
    }
   ],
   "source": [
    "img.shape"
   ]
  },
  {
   "cell_type": "code",
   "execution_count": 19,
   "metadata": {},
   "outputs": [
    {
     "name": "stdout",
     "output_type": "stream",
     "text": [
      "[[255 255 255 ... 255 255 255]\n",
      " [255 255 255 ... 255 255 255]\n",
      " [255 255 255 ... 255 255 255]\n",
      " ...\n",
      " [255 255 255 ... 255 255 255]\n",
      " [255 255 255 ... 255 255 255]\n",
      " [255 255 255 ... 255 255 255]]\n",
      "(370, 370)\n"
     ]
    }
   ],
   "source": [
    "print(img)\n",
    "print(img.shape)\n",
    "img[0] = 0\n",
    "img[369] = 0\n",
    "for i in range(370):\n",
    "  img[i][0] = 0\n",
    "  img[i][369] = 0"
   ]
  },
  {
   "cell_type": "code",
   "execution_count": 20,
   "metadata": {},
   "outputs": [],
   "source": [
    "cv2.imshow('img', img)\n",
    "cv2.waitKey(0)\n",
    "cv2.destroyAllWindows()"
   ]
  },
  {
   "cell_type": "code",
   "execution_count": null,
   "metadata": {},
   "outputs": [],
   "source": [
    "# generate batch of images\n",
    "import pathlib\n",
    "import numpy as np\n",
    "from pathlib import Path\n",
    "import cv2\n",
    "\n",
    "def generate_batch2(path):\n",
    "    path =Path(path)\n",
    "    rows = []\n",
    "    count = 1\n",
    "    while(count <= 100):\n",
    "        for j in range(2):\n",
    "            col = []\n",
    "            for k in range(5):\n",
    "                white_space = np.ones(shape=(370,370),dtype='uint8')\n",
    "                white_space.fill(255)\n",
    "                col.append(white_space)\n",
    "            rows.append(np.hstack(col))\n",
    "        for j in range(4):\n",
    "            col = []\n",
    "            for k in range(5):\n",
    "                if k == 0 or k == 4:\n",
    "                    white_space = np.ones(shape=(370,370),dtype='uint8')\n",
    "                    white_space.fill(255)\n",
    "                    col.append(white_space)\n",
    "                else:\n",
    "                    print(f'data_{count}')\n",
    "                    img,wtm = make_secureQR(f'data_{count:03}',qr_ver = 3, quant=16)\n",
    "                    col.append(img)\n",
    "                    count += 1\n",
    "            rows.append(np.hstack(col))\n",
    "        for j in range(2):\n",
    "            col = []\n",
    "            for k in range(5):\n",
    "                white_space = np.ones(shape=(370,370),dtype='uint8')\n",
    "                white_space.fill(255)\n",
    "                col.append(white_space)\n",
    "            rows.append(np.hstack(col))\n",
    "        # rows.append(np.ones((10,rows[0].shape[1]),dtype='uint8'))\n",
    "        grid = np.vstack(rows)\n",
    "        Image.fromarray(grid).save(path/f\"data_{count-12:03}_{count-1:03}.png\")\n",
    "        rows=[]\n",
    "        return grid\n",
    "        # Image.fromarray(grid).save(\"test.png\")"
   ]
  },
  {
   "cell_type": "code",
   "execution_count": 6,
   "metadata": {},
   "outputs": [],
   "source": [
    "# Generate QR batch A3\n",
    "import pathlib\n",
    "import numpy as np\n",
    "from pathlib import Path\n",
    "import cv2\n",
    "\n",
    "def generate_batchA3(path):\n",
    "    path =Path(path)\n",
    "    rows = []\n",
    "    count = 81    \n",
    "    count_awal = count\n",
    "    col = []\n",
    "    white_space = np.ones(shape=(74,2198),dtype='uint8')\n",
    "    white_space.fill(255)\n",
    "    col.append(white_space)\n",
    "    rows.append(np.hstack(col))\n",
    "    for j in range(8):\n",
    "        col = []\n",
    "        white_space = np.ones(shape=(370,174),dtype='uint8')\n",
    "        white_space.fill(255)\n",
    "        col.append(white_space)\n",
    "        for k in range(5):            \n",
    "            print(f'data_{count}')\n",
    "            img,wtm = make_secureQR(f'data_{count:03}',qr_ver = 3, quant=8)             \n",
    "            col.append(img)\n",
    "            count += 1\n",
    "        white_space = np.ones(shape=(370,174),dtype='uint8')\n",
    "        white_space.fill(255)\n",
    "        col.append(white_space)\n",
    "        rows.append(np.hstack(col))\n",
    "        \n",
    "    col = []\n",
    "    white_space = np.ones(shape=(74,2198),dtype='uint8')\n",
    "    white_space.fill(255)\n",
    "    col.append(white_space)\n",
    "    rows.append(np.hstack(col))\n",
    "    \n",
    "    grid = np.vstack(rows)\n",
    "    Image.fromarray(grid).save(path/f\"data_{count_awal:03}_{count-1:03}_original.png\")\n",
    "    rows=[]\n",
    "    return grid"
   ]
  },
  {
   "cell_type": "code",
   "execution_count": 7,
   "metadata": {},
   "outputs": [
    {
     "name": "stdout",
     "output_type": "stream",
     "text": [
      "data_81\n",
      "data_82\n",
      "data_83\n",
      "data_84\n",
      "data_85\n",
      "data_86\n",
      "data_87\n",
      "data_88\n",
      "data_89\n",
      "data_90\n",
      "data_91\n",
      "data_92\n",
      "data_93\n",
      "data_94\n",
      "data_95\n",
      "data_96\n",
      "data_97\n",
      "data_98\n",
      "data_99\n",
      "data_100\n",
      "data_101\n",
      "data_102\n",
      "data_103\n",
      "data_104\n",
      "data_105\n",
      "data_106\n",
      "data_107\n",
      "data_108\n",
      "data_109\n",
      "data_110\n",
      "data_111\n",
      "data_112\n",
      "data_113\n",
      "data_114\n",
      "data_115\n",
      "data_116\n",
      "data_117\n",
      "data_118\n",
      "data_119\n",
      "data_120\n"
     ]
    }
   ],
   "source": [
    "gridA3 = generate_batchA3('A3')"
   ]
  },
  {
   "cell_type": "code",
   "execution_count": 85,
   "metadata": {},
   "outputs": [
    {
     "name": "stdout",
     "output_type": "stream",
     "text": [
      "data_1\n",
      "data_2\n",
      "data_3\n",
      "data_4\n",
      "data_5\n",
      "data_6\n",
      "data_7\n",
      "data_8\n",
      "data_9\n",
      "data_10\n",
      "data_11\n",
      "data_12\n"
     ]
    }
   ],
   "source": [
    "grid2 = generate_batch2('watermarks')"
   ]
  },
  {
   "cell_type": "code",
   "execution_count": 86,
   "metadata": {},
   "outputs": [
    {
     "data": {
      "text/plain": [
       "(2960, 1850)"
      ]
     },
     "execution_count": 86,
     "metadata": {},
     "output_type": "execute_result"
    }
   ],
   "source": [
    "grid2.shape"
   ]
  },
  {
   "cell_type": "code",
   "execution_count": 87,
   "metadata": {},
   "outputs": [
    {
     "data": {
      "text/plain": [
       "(2960, 1850)"
      ]
     },
     "execution_count": 87,
     "metadata": {},
     "output_type": "execute_result"
    }
   ],
   "source": [
    "grid.shape"
   ]
  },
  {
   "cell_type": "code",
   "execution_count": 7,
   "metadata": {},
   "outputs": [],
   "source": [
    "img = cv2.imread('photo1/1-12.jpg',0)\n",
    "img = cv2.resize(img, (0, 0), fx=0.5, fy=0.5)\n",
    "cv2.imshow('cropped', img)\n",
    "cv2.waitKey(0)\n",
    "cv2.destroyAllWindows()"
   ]
  },
  {
   "cell_type": "code",
   "execution_count": 11,
   "metadata": {},
   "outputs": [
    {
     "name": "stdout",
     "output_type": "stream",
     "text": [
      "313   615\n",
      "468   614\n",
      "312   773\n",
      "467   770\n"
     ]
    }
   ],
   "source": [
    "# importing the module\n",
    "import cv2\n",
    "  \n",
    "# function to display the coordinates of\n",
    "# of the points clicked on the image\n",
    "def click_event(event, x, y, flags, params):\n",
    " \n",
    "    # checking for left mouse clicks\n",
    "    if event == cv2.EVENT_LBUTTONDOWN:\n",
    " \n",
    "        # displaying the coordinates\n",
    "        # on the Shell\n",
    "        print(x, ' ', y)\n",
    " \n",
    "        # displaying the coordinates\n",
    "        # on the image window\n",
    "        font = cv2.FONT_HERSHEY_SIMPLEX\n",
    "        cv2.putText(img, str(x) + ',' +\n",
    "                    str(y), (x,y), font,\n",
    "                    1, (255, 0, 0), 2)\n",
    "        cv2.imshow('image', img)\n",
    " \n",
    "    # checking for right mouse clicks    \n",
    "    if event==cv2.EVENT_RBUTTONDOWN:\n",
    " \n",
    "        # displaying the coordinates\n",
    "        # on the Shell\n",
    "        print(x, ' ', y)\n",
    " \n",
    "        # displaying the coordinates\n",
    "        # on the image window\n",
    "        font = cv2.FONT_HERSHEY_SIMPLEX\n",
    "        b = img[y, x, 0]\n",
    "        g = img[y, x, 1]\n",
    "        r = img[y, x, 2]\n",
    "        cv2.putText(img, str(b) + ',' +\n",
    "                    str(g) + ',' + str(r),\n",
    "                    (x,y), font, 1,\n",
    "                    (255, 255, 0), 2)\n",
    "        cv2.imshow('image', img)\n",
    " \n",
    "# driver function\n",
    "if __name__==\"__main__\":\n",
    " \n",
    "    # reading the image\n",
    "    img = cv2.imread('photo1/1-12.jpg', 1)\n",
    "    img = cv2.resize(img, (0, 0), fx=0.3, fy=0.3)\n",
    " \n",
    "    # displaying the image\n",
    "    cv2.imshow('image', img)\n",
    " \n",
    "    # setting mouse handler for the image\n",
    "    # and calling the click_event() function\n",
    "    cv2.setMouseCallback('image', click_event)\n",
    " \n",
    "    # wait for a key to be pressed to exit\n",
    "    cv2.waitKey(0)\n",
    " \n",
    "    # close the window\n",
    "    cv2.destroyAllWindows()"
   ]
  },
  {
   "cell_type": "code",
   "execution_count": 74,
   "metadata": {},
   "outputs": [],
   "source": [
    "img = cv2.imread('photo1/1-12.jpg', 0)\n",
    "# img = cv2.resize(img, (0, 0), fx=0.3, fy=0.3)"
   ]
  },
  {
   "cell_type": "code",
   "execution_count": 55,
   "metadata": {},
   "outputs": [
    {
     "data": {
      "text/plain": [
       "(4624, 2608)"
      ]
     },
     "execution_count": 55,
     "metadata": {},
     "output_type": "execute_result"
    }
   ],
   "source": [
    "img.shape"
   ]
  },
  {
   "cell_type": "code",
   "execution_count": 52,
   "metadata": {},
   "outputs": [
    {
     "data": {
      "text/plain": [
       "(1387, 782)"
      ]
     },
     "execution_count": 52,
     "metadata": {},
     "output_type": "execute_result"
    }
   ],
   "source": [
    "img.shape"
   ]
  },
  {
   "cell_type": "code",
   "execution_count": 57,
   "metadata": {},
   "outputs": [],
   "source": [
    "cropped = img[1534:2050, 527:1044]\n",
    "cropped2 = img[925:1080, 468:623]"
   ]
  },
  {
   "cell_type": "code",
   "execution_count": 23,
   "metadata": {},
   "outputs": [],
   "source": [
    "cropped = []\n",
    "517"
   ]
  },
  {
   "cell_type": "code",
   "execution_count": 58,
   "metadata": {},
   "outputs": [
    {
     "ename": "KeyboardInterrupt",
     "evalue": "",
     "output_type": "error",
     "traceback": [
      "\u001b[1;31m---------------------------------------------------------------------------\u001b[0m",
      "\u001b[1;31mKeyboardInterrupt\u001b[0m                         Traceback (most recent call last)",
      "\u001b[1;32m~\\AppData\\Local\\Temp/ipykernel_26328/1336308640.py\u001b[0m in \u001b[0;36m<module>\u001b[1;34m\u001b[0m\n\u001b[0;32m      1\u001b[0m \u001b[0mcv2\u001b[0m\u001b[1;33m.\u001b[0m\u001b[0mimshow\u001b[0m\u001b[1;33m(\u001b[0m\u001b[1;34m'cropped'\u001b[0m\u001b[1;33m,\u001b[0m \u001b[0mcropped\u001b[0m\u001b[1;33m)\u001b[0m\u001b[1;33m\u001b[0m\u001b[1;33m\u001b[0m\u001b[0m\n\u001b[1;32m----> 2\u001b[1;33m \u001b[0mcv2\u001b[0m\u001b[1;33m.\u001b[0m\u001b[0mwaitKey\u001b[0m\u001b[1;33m(\u001b[0m\u001b[1;36m0\u001b[0m\u001b[1;33m)\u001b[0m\u001b[1;33m\u001b[0m\u001b[1;33m\u001b[0m\u001b[0m\n\u001b[0m\u001b[0;32m      3\u001b[0m \u001b[0mcv2\u001b[0m\u001b[1;33m.\u001b[0m\u001b[0mdestroyAllWindows\u001b[0m\u001b[1;33m(\u001b[0m\u001b[1;33m)\u001b[0m\u001b[1;33m\u001b[0m\u001b[1;33m\u001b[0m\u001b[0m\n",
      "\u001b[1;31mKeyboardInterrupt\u001b[0m: "
     ]
    }
   ],
   "source": [
    "cv2.imshow('cropped', cropped)\n",
    "cv2.waitKey(0)\n",
    "cv2.destroyAllWindows()"
   ]
  },
  {
   "cell_type": "code",
   "execution_count": 75,
   "metadata": {},
   "outputs": [],
   "source": [
    "count = 0\n",
    "cropped = []\n",
    "for i in range(4):\n",
    "  for j in range(3):\n",
    "    # 1534:2050, 527:1044\n",
    "    cropped.append(cv2.resize(img[1533+i*517:2050+i*517, 527+j*517:1044+j*517], (370,370)))\n",
    "    Image.fromarray(cropped[count]).save(f\"data_{count+1:03}_1.png\")\n",
    "    count += 1"
   ]
  },
  {
   "cell_type": "code",
   "execution_count": 44,
   "metadata": {},
   "outputs": [],
   "source": [
    "cropped = cv2.resize(cropped, (370, 370))"
   ]
  },
  {
   "cell_type": "code",
   "execution_count": 82,
   "metadata": {},
   "outputs": [
    {
     "data": {
      "text/plain": [
       "array([[247, 246, 245, ..., 252, 252, 252],\n",
       "       [249, 246, 244, ..., 254, 251, 250],\n",
       "       [248, 244, 244, ..., 252, 251, 247],\n",
       "       ...,\n",
       "       [248, 247, 245, ..., 250, 250, 250],\n",
       "       [249, 248, 247, ..., 250, 250, 250],\n",
       "       [247, 247, 248, ..., 251, 251, 249]], dtype=uint8)"
      ]
     },
     "execution_count": 82,
     "metadata": {},
     "output_type": "execute_result"
    }
   ],
   "source": [
    "cropped[0]"
   ]
  },
  {
   "cell_type": "code",
   "execution_count": 83,
   "metadata": {},
   "outputs": [
    {
     "ename": "ValueError",
     "evalue": "object too deep for desired array",
     "output_type": "error",
     "traceback": [
      "\u001b[1;31m---------------------------------------------------------------------------\u001b[0m",
      "\u001b[1;31mValueError\u001b[0m                                Traceback (most recent call last)",
      "\u001b[1;32m~\\AppData\\Local\\Temp/ipykernel_26328/2599337967.py\u001b[0m in \u001b[0;36m<module>\u001b[1;34m\u001b[0m\n\u001b[1;32m----> 1\u001b[1;33m \u001b[0my\u001b[0m \u001b[1;33m=\u001b[0m \u001b[0mnp\u001b[0m\u001b[1;33m.\u001b[0m\u001b[0mbincount\u001b[0m\u001b[1;33m(\u001b[0m\u001b[0mcropped\u001b[0m\u001b[1;33m[\u001b[0m\u001b[1;36m0\u001b[0m\u001b[1;33m]\u001b[0m\u001b[1;33m)\u001b[0m\u001b[1;33m\u001b[0m\u001b[1;33m\u001b[0m\u001b[0m\n\u001b[0m\u001b[0;32m      2\u001b[0m \u001b[0mii\u001b[0m \u001b[1;33m=\u001b[0m \u001b[0mnp\u001b[0m\u001b[1;33m.\u001b[0m\u001b[0mnonzero\u001b[0m\u001b[1;33m(\u001b[0m\u001b[0my\u001b[0m\u001b[1;33m)\u001b[0m\u001b[1;33m[\u001b[0m\u001b[1;36m0\u001b[0m\u001b[1;33m]\u001b[0m\u001b[1;33m\u001b[0m\u001b[1;33m\u001b[0m\u001b[0m\n\u001b[0;32m      3\u001b[0m \u001b[0mzip\u001b[0m\u001b[1;33m(\u001b[0m\u001b[0mii\u001b[0m\u001b[1;33m,\u001b[0m\u001b[0my\u001b[0m\u001b[1;33m[\u001b[0m\u001b[0mii\u001b[0m\u001b[1;33m]\u001b[0m\u001b[1;33m)\u001b[0m\u001b[1;33m\u001b[0m\u001b[1;33m\u001b[0m\u001b[0m\n",
      "\u001b[1;32mc:\\ProgramData\\Anaconda3\\lib\\site-packages\\numpy\\core\\overrides.py\u001b[0m in \u001b[0;36mbincount\u001b[1;34m(*args, **kwargs)\u001b[0m\n",
      "\u001b[1;31mValueError\u001b[0m: object too deep for desired array"
     ]
    }
   ],
   "source": [
    "y = np.bincount(cropped[0])\n",
    "ii = np.nonzero(y)[0]\n",
    "zip(ii,y[ii])"
   ]
  },
  {
   "cell_type": "code",
   "execution_count": 63,
   "metadata": {},
   "outputs": [],
   "source": [
    "cv2.imshow('cropped', cropped)\n",
    "cv2.waitKey(0)\n",
    "cv2.destroyAllWindows()"
   ]
  },
  {
   "cell_type": "code",
   "execution_count": 13,
   "metadata": {},
   "outputs": [],
   "source": [
    "# generate batch of images\n",
    "import pathlib\n",
    "import numpy as np\n",
    "from pathlib import Path\n",
    "import cv2\n",
    "\n",
    "def generate_batch3(path):\n",
    "    path =Path(path)\n",
    "    rows = []\n",
    "    count = 0\n",
    "    for j in range(2):\n",
    "        col = []\n",
    "        for k in range(5):\n",
    "            white_space = np.ones(shape=(370,370),dtype='uint8')\n",
    "            white_space.fill(255)\n",
    "            col.append(white_space)\n",
    "        rows.append(np.hstack(col))\n",
    "    for j in range(4):\n",
    "        col = []\n",
    "        for k in range(5):\n",
    "            if k == 0 or k == 4:\n",
    "                white_space = np.ones(shape=(370,370),dtype='uint8')\n",
    "                white_space.fill(255)\n",
    "                col.append(white_space)\n",
    "            else:\n",
    "                print(f'data_{count}')                \n",
    "                col.append(cropped[count])\n",
    "                count += 1\n",
    "        rows.append(np.hstack(col))\n",
    "    for j in range(2):\n",
    "        col = []\n",
    "        for k in range(5):\n",
    "            white_space = np.ones(shape=(370,370),dtype='uint8')\n",
    "            white_space.fill(255)\n",
    "            col.append(white_space)\n",
    "        rows.append(np.hstack(col))\n",
    "    # rows.append(np.ones((10,rows[0].shape[1]),dtype='uint8'))\n",
    "    grid = np.vstack(rows)\n",
    "    Image.fromarray(grid).save(path/f\"data_001_012_1.png\")\n",
    "    rows=[]\n",
    "    return grid\n",
    "    # Image.fromarray(grid).save(\"test.png\")"
   ]
  },
  {
   "cell_type": "code",
   "execution_count": 15,
   "metadata": {},
   "outputs": [
    {
     "name": "stdout",
     "output_type": "stream",
     "text": [
      "data_0\n",
      "data_1\n",
      "data_2\n",
      "data_3\n",
      "data_4\n",
      "data_5\n",
      "data_6\n",
      "data_7\n",
      "data_8\n"
     ]
    }
   ],
   "source": [
    "grid = generate_batch3('data_x')"
   ]
  },
  {
   "cell_type": "code",
   "execution_count": 20,
   "metadata": {},
   "outputs": [],
   "source": [
    "# Generate 3x3 QR\n",
    "import pathlib\n",
    "import numpy as np\n",
    "from pathlib import Path\n",
    "import cv2\n",
    "\n",
    "def generate_batch4(path):\n",
    "    path =Path(path)\n",
    "    rows = []\n",
    "    count = 1    \n",
    "    col = []\n",
    "    white_space = np.ones(shape=(540,1550),dtype='uint8')\n",
    "    white_space.fill(255)\n",
    "    col.append(white_space)\n",
    "    rows.append(np.hstack(col))\n",
    "    for j in range(3):\n",
    "        col = []\n",
    "        white_space = np.ones(shape=(370,220),dtype='uint8')\n",
    "        white_space.fill(255)\n",
    "        col.append(white_space)\n",
    "        for k in range(3):            \n",
    "            print(f'data_{count}')\n",
    "            img,wtm = make_secureQR(f'data_{count:03}',qr_ver = 3, quant=16)                \n",
    "            col.append(img)\n",
    "            count += 1\n",
    "        white_space = np.ones(shape=(370,220),dtype='uint8')\n",
    "        white_space.fill(255)\n",
    "        col.append(white_space)\n",
    "        rows.append(np.hstack(col))\n",
    "        \n",
    "    col = []\n",
    "    white_space = np.ones(shape=(540,1550),dtype='uint8')\n",
    "    white_space.fill(255)\n",
    "    col.append(white_space)\n",
    "    rows.append(np.hstack(col))\n",
    "    \n",
    "    grid = np.vstack(rows)\n",
    "    Image.fromarray(grid).save(path/f\"data_001_009.png\")\n",
    "    rows=[]\n",
    "    return grid"
   ]
  },
  {
   "cell_type": "code",
   "execution_count": 21,
   "metadata": {},
   "outputs": [
    {
     "name": "stdout",
     "output_type": "stream",
     "text": [
      "data_1\n",
      "data_2\n",
      "data_3\n",
      "data_4\n",
      "data_5\n",
      "data_6\n",
      "data_7\n",
      "data_8\n",
      "data_9\n"
     ]
    }
   ],
   "source": [
    "grid = generate_batch4('data_x')"
   ]
  },
  {
   "cell_type": "code",
   "execution_count": 1,
   "metadata": {},
   "outputs": [],
   "source": [
    "# Generate 2x2 QR\n",
    "import pathlib\n",
    "import numpy as np\n",
    "from pathlib import Path\n",
    "import cv2\n",
    "\n",
    "def generate_batch5(path):\n",
    "    path =Path(path)\n",
    "    rows = []\n",
    "    count = 1    \n",
    "    col = []\n",
    "    white_space = np.ones(shape=(470,1180),dtype='uint8')\n",
    "    white_space.fill(255)\n",
    "    col.append(white_space)\n",
    "    rows.append(np.hstack(col))\n",
    "    for j in range(2):\n",
    "        col = []\n",
    "        white_space = np.ones(shape=(370,220),dtype='uint8')\n",
    "        white_space.fill(255)\n",
    "        col.append(white_space)\n",
    "        for k in range(2):            \n",
    "            print(f'data_{count}')\n",
    "            img,wtm = make_secureQR(f'data_{count:03}',qr_ver = 3, quant=16)                \n",
    "            col.append(img)\n",
    "            count += 1\n",
    "        white_space = np.ones(shape=(370,220),dtype='uint8')\n",
    "        white_space.fill(255)\n",
    "        col.append(white_space)\n",
    "        rows.append(np.hstack(col))\n",
    "        \n",
    "    col = []\n",
    "    white_space = np.ones(shape=(470,1180),dtype='uint8')\n",
    "    white_space.fill(255)\n",
    "    col.append(white_space)\n",
    "    rows.append(np.hstack(col))\n",
    "    \n",
    "    grid = np.vstack(rows)\n",
    "    Image.fromarray(grid).save(path/f\"data_001_004.png\")\n",
    "    rows=[]\n",
    "    return grid"
   ]
  },
  {
   "cell_type": "code",
   "execution_count": 5,
   "metadata": {},
   "outputs": [
    {
     "name": "stdout",
     "output_type": "stream",
     "text": [
      "data_1\n",
      "data_2\n",
      "data_3\n",
      "data_4\n"
     ]
    }
   ],
   "source": [
    "grid = generate_batch5('2x2QR')"
   ]
  }
 ],
 "metadata": {
  "kernelspec": {
   "display_name": "Python 3.9.7 ('base')",
   "language": "python",
   "name": "python3"
  },
  "language_info": {
   "codemirror_mode": {
    "name": "ipython",
    "version": 3
   },
   "file_extension": ".py",
   "mimetype": "text/x-python",
   "name": "python",
   "nbconvert_exporter": "python",
   "pygments_lexer": "ipython3",
   "version": "3.9.7"
  },
  "orig_nbformat": 4,
  "vscode": {
   "interpreter": {
    "hash": "ad2bdc8ecc057115af97d19610ffacc2b4e99fae6737bb82f5d7fb13d2f2c186"
   }
  }
 },
 "nbformat": 4,
 "nbformat_minor": 2
}
