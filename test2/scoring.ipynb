{
 "cells": [
  {
   "cell_type": "code",
   "execution_count": 56,
   "metadata": {},
   "outputs": [],
   "source": [
    "import requests\n",
    "\n",
    "def scoring(batch_size):\n",
    "  score = []\n",
    "  for i in range(batch_size*batch_size):    \n",
    "    url = 'http://localhost:8000/verify_wsqr?v=3&quant=16&pct=0.2'\n",
    "    files = {'file': open(f\"./Data_Batch/Ivory/data{batch_size}x{batch_size}_{i+1:03}_1.png\", \"rb\")}\n",
    "    response = requests.post(url, files = files)\n",
    "    try:\n",
    "      score.append({'data': response.json()['data'], 'distance': response.json()['distance']})\n",
    "    except:\n",
    "      continue\n",
    "  return score"
   ]
  },
  {
   "cell_type": "code",
   "execution_count": 54,
   "metadata": {},
   "outputs": [
    {
     "name": "stdout",
     "output_type": "stream",
     "text": [
      "[{'data': 'data_001', 'distance': 0.11149405272746188}, {'data': 'data_002', 'distance': 0.052769179846305754}, {'data': 'data_003', 'distance': 0.1309451709782742}, {'data': 'data_004', 'distance': 0.06139963353330702}]\n"
     ]
    }
   ],
   "source": [
    "# Matte 2x2\n",
    "score = scoring(2)\n",
    "print(score)"
   ]
  },
  {
   "cell_type": "code",
   "execution_count": 55,
   "metadata": {},
   "outputs": [
    {
     "name": "stdout",
     "output_type": "stream",
     "text": [
      "[{'data': 'data_001', 'distance': 0.1303263282722342}, {'data': 'data_002', 'distance': 0.0807033932924652}, {'data': 'data_003', 'distance': 0.17545174282151738}, {'data': 'data_004', 'distance': 0.1155010271859282}, {'data': 'data_005', 'distance': 0.058378436091806235}, {'data': 'data_006', 'distance': 0.10580793678820771}, {'data': 'data_007', 'distance': 0.09938339898874378}, {'data': 'data_008', 'distance': 0.06675509712209826}, {'data': 'data_009', 'distance': 0.13622414673653138}]\n"
     ]
    }
   ],
   "source": [
    "# Matte 3x3\n",
    "score = scoring(3)\n",
    "print(score)"
   ]
  },
  {
   "cell_type": "code",
   "execution_count": 57,
   "metadata": {},
   "outputs": [
    {
     "name": "stdout",
     "output_type": "stream",
     "text": [
      "[{'data': 'data_001', 'distance': 0.061061759398216106}, {'data': 'data_002', 'distance': 0.058664069641653445}, {'data': 'data_003', 'distance': 0.0779040586103299}, {'data': 'data_004', 'distance': 0.10985725991852306}]\n"
     ]
    }
   ],
   "source": [
    "# Ivory 2x2\n",
    "score = scoring(2)\n",
    "print(score)"
   ]
  },
  {
   "cell_type": "code",
   "execution_count": 58,
   "metadata": {},
   "outputs": [
    {
     "name": "stdout",
     "output_type": "stream",
     "text": [
      "[{'data': 'data_001', 'distance': 0.0670406562989752}, {'data': 'data_002', 'distance': 0.13881358835978236}, {'data': 'data_003', 'distance': 0.11137000941172859}, {'data': 'data_004', 'distance': 0.07930532270738663}, {'data': 'data_005', 'distance': 0.052325023629591155}, {'data': 'data_006', 'distance': 0.08302482438376946}, {'data': 'data_007', 'distance': 0.06460852009322127}, {'data': 'data_008', 'distance': 0.10759808365246967}, {'data': 'data_009', 'distance': 0.14500661173680796}]\n"
     ]
    }
   ],
   "source": [
    "# Ivory 3x3\n",
    "score = scoring(3)\n",
    "print(score)"
   ]
  },
  {
   "cell_type": "code",
   "execution_count": 43,
   "metadata": {},
   "outputs": [],
   "source": [
    "score = scoring(2)"
   ]
  },
  {
   "cell_type": "code",
   "execution_count": 44,
   "metadata": {},
   "outputs": [
    {
     "name": "stdout",
     "output_type": "stream",
     "text": [
      "[{'data': 'data_001', 'distance': 0.12418865702635491}, {'data': 'data_002', 'distance': 0.13413918146261877}, {'data': 'data_003', 'distance': 0.06821952329309913}, {'data': 'data_004', 'distance': 0.08909009841988726}]\n"
     ]
    }
   ],
   "source": [
    "print(score)"
   ]
  },
  {
   "cell_type": "code",
   "execution_count": 50,
   "metadata": {},
   "outputs": [
    {
     "name": "stdout",
     "output_type": "stream",
     "text": [
      "[{'data': 'data_001', 'distance': 0.09347760985527181}, {'data': 'data_003', 'distance': 0.12881181416413198}, {'data': '', 'distance': 0.08010163350932636}]\n"
     ]
    }
   ],
   "source": [
    "score = scoring(2)\n",
    "print(score)"
   ]
  },
  {
   "cell_type": "code",
   "execution_count": 45,
   "metadata": {},
   "outputs": [
    {
     "name": "stdout",
     "output_type": "stream",
     "text": [
      "[{'data': 'data_001', 'distance': 0.11868339068516517}, {'data': 'data_002', 'distance': 0.12953839849393925}, {'data': 'data_003', 'distance': 0.2586762542956234}, {'data': 'data_004', 'distance': 0.10256617850620615}, {'data': 'data_005', 'distance': 0.11332841095650441}, {'data': 'data_006', 'distance': 0.08913669483018154}, {'data': 'data_007', 'distance': 0.07117862369303177}, {'data': 'data_008', 'distance': 0.12094525164759301}, {'data': 'data_009', 'distance': 0.12088821447524731}]\n"
     ]
    }
   ],
   "source": [
    "score3x3 = scoring(3)\n",
    "print(score3x3)"
   ]
  },
  {
   "cell_type": "code",
   "execution_count": 51,
   "metadata": {},
   "outputs": [
    {
     "name": "stdout",
     "output_type": "stream",
     "text": [
      "[{'data': '', 'distance': 0.1697273147580953}, {'data': 'data_003', 'distance': 0.11637223300658033}, {'data': 'data_004', 'distance': 0.07290438284439821}, {'data': 'data_005', 'distance': 0.0690232063137965}, {'data': 'data_006', 'distance': 0.1677674666326273}, {'data': 'data_007', 'distance': 0.20452971927908994}, {'data': 'data_008', 'distance': 0.1313986874905647}, {'data': 'data_009', 'distance': 0.15024855356758607}]\n"
     ]
    }
   ],
   "source": [
    "score3x3 = scoring(3)\n",
    "print(score3x3)"
   ]
  },
  {
   "cell_type": "code",
   "execution_count": 18,
   "metadata": {},
   "outputs": [
    {
     "name": "stdout",
     "output_type": "stream",
     "text": [
      "001\n"
     ]
    }
   ],
   "source": [
    "print(f'{1:03}')"
   ]
  },
  {
   "cell_type": "code",
   "execution_count": 29,
   "metadata": {},
   "outputs": [],
   "source": [
    "test = []\n",
    "test.append(1)"
   ]
  },
  {
   "cell_type": "code",
   "execution_count": 30,
   "metadata": {},
   "outputs": [
    {
     "data": {
      "text/plain": [
       "[1]"
      ]
     },
     "execution_count": 30,
     "metadata": {},
     "output_type": "execute_result"
    }
   ],
   "source": [
    "test"
   ]
  }
 ],
 "metadata": {
  "kernelspec": {
   "display_name": "base",
   "language": "python",
   "name": "python3"
  },
  "language_info": {
   "codemirror_mode": {
    "name": "ipython",
    "version": 3
   },
   "file_extension": ".py",
   "mimetype": "text/x-python",
   "name": "python",
   "nbconvert_exporter": "python",
   "pygments_lexer": "ipython3",
   "version": "3.9.7"
  },
  "orig_nbformat": 4,
  "vscode": {
   "interpreter": {
    "hash": "ad2bdc8ecc057115af97d19610ffacc2b4e99fae6737bb82f5d7fb13d2f2c186"
   }
  }
 },
 "nbformat": 4,
 "nbformat_minor": 2
}
