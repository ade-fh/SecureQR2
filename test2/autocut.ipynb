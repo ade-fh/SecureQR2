{
 "cells": [
  {
   "cell_type": "code",
   "execution_count": 1,
   "metadata": {},
   "outputs": [],
   "source": [
    "import cv2\n",
    "import numpy as np\n",
    "import pandas as pd\n",
    "from PIL import Image\n",
    "from pathlib import Path"
   ]
  },
  {
   "cell_type": "code",
   "execution_count": 2,
   "metadata": {},
   "outputs": [],
   "source": [
    "img = cv2.imread('./Data_Batch/Ivory/3x3_1.jpg',0)\n",
    "# img = cv2.resize(img, (0, 0), fx=0.2, fy=0.2)\n",
    "# cv2.imshow('3x3_1', img)\n",
    "# cv2.waitKey(0)\n",
    "# cv2.destroyAllWindows()"
   ]
  },
  {
   "cell_type": "code",
   "execution_count": 136,
   "metadata": {},
   "outputs": [],
   "source": [
    "img = cv2.imread('./Data_Batch/Ivory/2x2_1.jpg',0)\n",
    "# cv2.imshow('2x2_1', img)\n",
    "# cv2.waitKey(0)\n",
    "# cv2.destroyAllWindows()"
   ]
  },
  {
   "cell_type": "code",
   "execution_count": 87,
   "metadata": {},
   "outputs": [
    {
     "name": "stdout",
     "output_type": "stream",
     "text": [
      "179   383\n",
      "343   382\n",
      "343   217\n"
     ]
    }
   ],
   "source": [
    "def click_event(event, x, y, flags, params):\n",
    " \n",
    "    # checking for left mouse clicks\n",
    "    if event == cv2.EVENT_LBUTTONDOWN:\n",
    " \n",
    "        # displaying the coordinates\n",
    "        # on the Shell\n",
    "        print(x, ' ', y)\n",
    " \n",
    "        # displaying the coordinates\n",
    "        # on the image window\n",
    "        font = cv2.FONT_HERSHEY_SIMPLEX\n",
    "        cv2.putText(img, str(x) + ',' +\n",
    "                    str(y), (x,y), font,\n",
    "                    1, (255, 0, 0), 2)\n",
    "        cv2.imshow('image', img)\n",
    " \n",
    "    # checking for right mouse clicks    \n",
    "    if event==cv2.EVENT_RBUTTONDOWN:\n",
    " \n",
    "        # displaying the coordinates\n",
    "        # on the Shell\n",
    "        print(x, ' ', y)\n",
    " \n",
    "        # displaying the coordinates\n",
    "        # on the image window\n",
    "        font = cv2.FONT_HERSHEY_SIMPLEX\n",
    "        b = img[y, x, 0]\n",
    "        g = img[y, x, 1]\n",
    "        r = img[y, x, 2]\n",
    "        cv2.putText(img, str(b) + ',' +\n",
    "                    str(g) + ',' + str(r),\n",
    "                    (x,y), font, 1,\n",
    "                    (255, 255, 0), 2)\n",
    "        cv2.imshow('image', img)\n",
    " \n",
    "# driver function\n",
    "if __name__==\"__main__\":\n",
    " \n",
    "    # reading the image\n",
    "    img = cv2.imread('./Data_Batch/3x3QR/3x3_1.jpg',0)\n",
    "    img = cv2.resize(img, (0, 0), fx=0.2, fy=0.2)\n",
    " \n",
    "    # displaying the image\n",
    "    cv2.imshow('image', img)\n",
    " \n",
    "    # setting mouse handler for the image\n",
    "    # and calling the click_event() function\n",
    "    cv2.setMouseCallback('image', click_event)\n",
    " \n",
    "    # wait for a key to be pressed to exit\n",
    "    cv2.waitKey(0)\n",
    " \n",
    "    # close the window\n",
    "    cv2.destroyAllWindows()"
   ]
  },
  {
   "cell_type": "code",
   "execution_count": 88,
   "metadata": {},
   "outputs": [],
   "source": [
    "cropped = img[215:380, 15:180]\n",
    "# cropped2 = img[241:465, 262:474]\n",
    "# cropped3 = img[465:689, 50:262]\n",
    "# cropped4 = img[465:689, 262:474]"
   ]
  },
  {
   "cell_type": "code",
   "execution_count": 89,
   "metadata": {},
   "outputs": [],
   "source": [
    "cv2.imshow('cropped', cropped)\n",
    "cv2.waitKey(0)\n",
    "cv2.destroyAllWindows()\n"
   ]
  },
  {
   "cell_type": "code",
   "execution_count": 137,
   "metadata": {},
   "outputs": [],
   "source": [
    "# 2x2 Batch QR\n",
    "count = 0\n",
    "cropped = []\n",
    "for i in range(2):\n",
    "  for j in range(2):\n",
    "    # 1534:2050, 527:1044\n",
    "    cropped.append(cv2.resize(img[1250+i*1060:2310+i*1060, 250+j*1060:1310+j*1060], (370,370), interpolation=cv2.INTER_NEAREST))\n",
    "    Image.fromarray(cropped[count]).save(\"Data_Batch/Ivory/\"+f\"data2x2_{count+1:03}_1.png\")\n",
    "    count += 1"
   ]
  },
  {
   "cell_type": "code",
   "execution_count": 19,
   "metadata": {},
   "outputs": [
    {
     "ename": "error",
     "evalue": "OpenCV(4.6.0) D:\\a\\opencv-python\\opencv-python\\opencv\\modules\\imgproc\\src\\resize.cpp:4052: error: (-215:Assertion failed) !ssize.empty() in function 'cv::resize'\n",
     "output_type": "error",
     "traceback": [
      "\u001b[1;31m---------------------------------------------------------------------------\u001b[0m",
      "\u001b[1;31merror\u001b[0m                                     Traceback (most recent call last)",
      "\u001b[1;32m~\\AppData\\Local\\Temp/ipykernel_16548/281117051.py\u001b[0m in \u001b[0;36m<module>\u001b[1;34m\u001b[0m\n\u001b[0;32m      5\u001b[0m   \u001b[1;32mfor\u001b[0m \u001b[0mj\u001b[0m \u001b[1;32min\u001b[0m \u001b[0mrange\u001b[0m\u001b[1;33m(\u001b[0m\u001b[1;36m3\u001b[0m\u001b[1;33m)\u001b[0m\u001b[1;33m:\u001b[0m\u001b[1;33m\u001b[0m\u001b[1;33m\u001b[0m\u001b[0m\n\u001b[0;32m      6\u001b[0m     \u001b[1;31m# 1534:2050, 527:1044\u001b[0m\u001b[1;33m\u001b[0m\u001b[1;33m\u001b[0m\u001b[0m\n\u001b[1;32m----> 7\u001b[1;33m     \u001b[0mcropped\u001b[0m\u001b[1;33m.\u001b[0m\u001b[0mappend\u001b[0m\u001b[1;33m(\u001b[0m\u001b[0mcv2\u001b[0m\u001b[1;33m.\u001b[0m\u001b[0mresize\u001b[0m\u001b[1;33m(\u001b[0m\u001b[0mimg\u001b[0m\u001b[1;33m[\u001b[0m\u001b[1;36m1070\u001b[0m\u001b[1;33m+\u001b[0m\u001b[0mi\u001b[0m\u001b[1;33m*\u001b[0m\u001b[1;36m825\u001b[0m\u001b[1;33m:\u001b[0m\u001b[1;36m1895\u001b[0m\u001b[1;33m+\u001b[0m\u001b[0mi\u001b[0m\u001b[1;33m*\u001b[0m\u001b[1;36m825\u001b[0m\u001b[1;33m,\u001b[0m \u001b[1;36m70\u001b[0m\u001b[1;33m+\u001b[0m\u001b[0mj\u001b[0m\u001b[1;33m*\u001b[0m\u001b[1;36m825\u001b[0m\u001b[1;33m:\u001b[0m\u001b[1;36m895\u001b[0m\u001b[1;33m+\u001b[0m\u001b[0mj\u001b[0m\u001b[1;33m*\u001b[0m\u001b[1;36m825\u001b[0m\u001b[1;33m]\u001b[0m\u001b[1;33m,\u001b[0m \u001b[1;33m(\u001b[0m\u001b[1;36m370\u001b[0m\u001b[1;33m,\u001b[0m\u001b[1;36m370\u001b[0m\u001b[1;33m)\u001b[0m\u001b[1;33m,\u001b[0m \u001b[0minterpolation\u001b[0m\u001b[1;33m=\u001b[0m\u001b[0mcv2\u001b[0m\u001b[1;33m.\u001b[0m\u001b[0mINTER_NEAREST\u001b[0m\u001b[1;33m)\u001b[0m\u001b[1;33m)\u001b[0m\u001b[1;33m\u001b[0m\u001b[1;33m\u001b[0m\u001b[0m\n\u001b[0m\u001b[0;32m      8\u001b[0m     \u001b[0mImage\u001b[0m\u001b[1;33m.\u001b[0m\u001b[0mfromarray\u001b[0m\u001b[1;33m(\u001b[0m\u001b[0mcropped\u001b[0m\u001b[1;33m[\u001b[0m\u001b[0mcount\u001b[0m\u001b[1;33m]\u001b[0m\u001b[1;33m)\u001b[0m\u001b[1;33m.\u001b[0m\u001b[0msave\u001b[0m\u001b[1;33m(\u001b[0m\u001b[1;34m\"Data_Batch/Ivory/\"\u001b[0m\u001b[1;33m+\u001b[0m\u001b[1;34mf\"data3x3_{count+1:03}_1.png\"\u001b[0m\u001b[1;33m)\u001b[0m\u001b[1;33m\u001b[0m\u001b[1;33m\u001b[0m\u001b[0m\n\u001b[0;32m      9\u001b[0m     \u001b[0mcount\u001b[0m \u001b[1;33m+=\u001b[0m \u001b[1;36m1\u001b[0m\u001b[1;33m\u001b[0m\u001b[1;33m\u001b[0m\u001b[0m\n",
      "\u001b[1;31merror\u001b[0m: OpenCV(4.6.0) D:\\a\\opencv-python\\opencv-python\\opencv\\modules\\imgproc\\src\\resize.cpp:4052: error: (-215:Assertion failed) !ssize.empty() in function 'cv::resize'\n"
     ]
    }
   ],
   "source": [
    "# 3x3 Batch QR\n",
    "count = 0\n",
    "cropped = []\n",
    "for i in range(3):\n",
    "  for j in range(3):\n",
    "    # 1534:2050, 527:1044\n",
    "    cropped.append(cv2.resize(img[1070+i*825:1895+i*825, 70+j*825:895+j*825], (370,370), interpolation=cv2.INTER_NEAREST))\n",
    "    Image.fromarray(cropped[count]).save(\"Data_Batch/Ivory/\"+f\"data3x3_{count+1:03}_1.png\")\n",
    "    count += 1"
   ]
  },
  {
   "cell_type": "code",
   "execution_count": 112,
   "metadata": {},
   "outputs": [],
   "source": [
    "# Generate 2x2 Batch\n",
    "def generate_batch2x2(path):\n",
    "    path =Path(path)\n",
    "    rows = []\n",
    "    count = 1    \n",
    "    col = []\n",
    "    white_space = np.ones(shape=(470,1180),dtype='uint8')\n",
    "    white_space.fill(255)\n",
    "    col.append(white_space)\n",
    "    rows.append(np.hstack(col))\n",
    "    for j in range(2):\n",
    "        col = []\n",
    "        white_space = np.ones(shape=(370,220),dtype='uint8')\n",
    "        white_space.fill(255)\n",
    "        col.append(white_space)\n",
    "        for k in range(2):            \n",
    "            print(f'data_{count}')\n",
    "            # img,wtm = make_secureQR(f'data_{count:03}',qr_ver = 3, quant=16)\n",
    "            img = cropped[count-1]               \n",
    "            col.append(img)\n",
    "            count += 1\n",
    "        white_space = np.ones(shape=(370,220),dtype='uint8')\n",
    "        white_space.fill(255)\n",
    "        col.append(white_space)\n",
    "        rows.append(np.hstack(col))\n",
    "        \n",
    "    col = []\n",
    "    white_space = np.ones(shape=(470,1180),dtype='uint8')\n",
    "    white_space.fill(255)\n",
    "    col.append(white_space)\n",
    "    rows.append(np.hstack(col))\n",
    "    \n",
    "    grid = np.vstack(rows)\n",
    "    Image.fromarray(grid).save(path/f\"data_001_004_1.png\")\n",
    "    rows=[]\n",
    "    return grid"
   ]
  },
  {
   "cell_type": "code",
   "execution_count": 113,
   "metadata": {},
   "outputs": [
    {
     "name": "stdout",
     "output_type": "stream",
     "text": [
      "data_1\n",
      "data_2\n",
      "data_3\n",
      "data_4\n"
     ]
    },
    {
     "data": {
      "text/plain": [
       "array([[255, 255, 255, ..., 255, 255, 255],\n",
       "       [255, 255, 255, ..., 255, 255, 255],\n",
       "       [255, 255, 255, ..., 255, 255, 255],\n",
       "       ...,\n",
       "       [255, 255, 255, ..., 255, 255, 255],\n",
       "       [255, 255, 255, ..., 255, 255, 255],\n",
       "       [255, 255, 255, ..., 255, 255, 255]], dtype=uint8)"
      ]
     },
     "execution_count": 113,
     "metadata": {},
     "output_type": "execute_result"
    }
   ],
   "source": [
    "generate_batch2x2('Data_Batch/2x2QR/')"
   ]
  },
  {
   "cell_type": "code",
   "execution_count": 4,
   "metadata": {},
   "outputs": [],
   "source": [
    "# Generate 3x3 Batch\n",
    "def generate_batch3x3(path):\n",
    "    path =Path(path)\n",
    "    rows = []\n",
    "    count = 1    \n",
    "    col = []\n",
    "    white_space = np.ones(shape=(540,1550),dtype='uint8')\n",
    "    white_space.fill(255)\n",
    "    col.append(white_space)\n",
    "    rows.append(np.hstack(col))\n",
    "    for j in range(3):\n",
    "        col = []\n",
    "        white_space = np.ones(shape=(370,220),dtype='uint8')\n",
    "        white_space.fill(255)\n",
    "        col.append(white_space)\n",
    "        for k in range(3):            \n",
    "            print(f'data_{count}')\n",
    "            # img,wtm = make_secureQR(f'data_{count:03}',qr_ver = 3, quant=16)             \n",
    "            img = cropped[count-1]   \n",
    "            col.append(img)\n",
    "            count += 1\n",
    "        white_space = np.ones(shape=(370,220),dtype='uint8')\n",
    "        white_space.fill(255)\n",
    "        col.append(white_space)\n",
    "        rows.append(np.hstack(col))\n",
    "        \n",
    "    col = []\n",
    "    white_space = np.ones(shape=(540,1550),dtype='uint8')\n",
    "    white_space.fill(255)\n",
    "    col.append(white_space)\n",
    "    rows.append(np.hstack(col))\n",
    "    \n",
    "    grid = np.vstack(rows)\n",
    "    Image.fromarray(grid).save(path/f\"data_001_009_1.png\")\n",
    "    rows=[]\n",
    "    return grid"
   ]
  },
  {
   "cell_type": "code",
   "execution_count": 5,
   "metadata": {},
   "outputs": [
    {
     "name": "stdout",
     "output_type": "stream",
     "text": [
      "data_1\n",
      "data_2\n",
      "data_3\n",
      "data_4\n",
      "data_5\n",
      "data_6\n",
      "data_7\n",
      "data_8\n",
      "data_9\n"
     ]
    },
    {
     "data": {
      "text/plain": [
       "array([[255, 255, 255, ..., 255, 255, 255],\n",
       "       [255, 255, 255, ..., 255, 255, 255],\n",
       "       [255, 255, 255, ..., 255, 255, 255],\n",
       "       ...,\n",
       "       [255, 255, 255, ..., 255, 255, 255],\n",
       "       [255, 255, 255, ..., 255, 255, 255],\n",
       "       [255, 255, 255, ..., 255, 255, 255]], dtype=uint8)"
      ]
     },
     "execution_count": 5,
     "metadata": {},
     "output_type": "execute_result"
    }
   ],
   "source": [
    "generate_batch3x3('./Data_Batch/Ivory/')"
   ]
  },
  {
   "cell_type": "code",
   "execution_count": 9,
   "metadata": {},
   "outputs": [],
   "source": [
    "# https://www.geeksforgeeks.org/how-to-iterate-over-files-in-directory-using-python/\n",
    " \n",
    "# import required module\n",
    "import os\n",
    " \n",
    "# assign directory\n",
    "directory = 'GTNEO3T_ISO100_SS1-30_WB5000'\n",
    " \n",
    "# iterate over files in\n",
    "# that directory\n",
    "filename_list = []\n",
    "for root, dirs, files in os.walk(directory):\n",
    "    for filename in files:\n",
    "        # print(os.path.join(filename))\n",
    "        filename_list.append(os.path.join(filename))"
   ]
  },
  {
   "cell_type": "code",
   "execution_count": 20,
   "metadata": {},
   "outputs": [
    {
     "name": "stdout",
     "output_type": "stream",
     "text": [
      "['IMG20221103153233.jpg', 'IMG20221103153317.jpg', 'IMG20221103153355.jpg', 'IMG20221103153433.jpg', 'IMG20221103153515.jpg', 'IMG20221103153546.jpg', 'IMG20221103153617.jpg', 'IMG20221103153645.jpg', 'IMG20221103153717.jpg', 'IMG20221103153758.jpg', 'IMG20221103153834.jpg', 'IMG20221103153948.jpg', 'IMG20221103154025.jpg', 'IMG20221103154054.jpg', 'IMG20221103154134.jpg', 'IMG20221103154201.jpg', 'IMG20221103154229.jpg', 'IMG20221103154258.jpg', 'IMG20221103154333.jpg', 'IMG20221103154421.jpg', 'IMG20221103154451.jpg', 'IMG20221103154522.jpg', 'IMG20221103154552.jpg', 'IMG20221103154616.jpg', 'IMG20221103154709.jpg', 'IMG20221103154735.jpg', 'IMG20221103154802.jpg', 'IMG20221103154829.jpg', 'IMG20221103154858.jpg', 'IMG20221103154919.jpg', 'IMG20221103154941.jpg', 'IMG20221103155002.jpg', 'IMG20221103155027.jpg', 'IMG20221103155056.jpg', 'IMG20221103155117.jpg', 'IMG20221103155141.jpg', 'IMG20221103155222.jpg', 'IMG20221103155248.jpg', 'IMG20221103155314.jpg', 'IMG20221103155338.jpg'] 40\n"
     ]
    }
   ],
   "source": [
    "print(filename_list, len(filename_list))"
   ]
  },
  {
   "cell_type": "code",
   "execution_count": 13,
   "metadata": {},
   "outputs": [],
   "source": [
    "import cv2\n",
    "import numpy as np\n",
    "import pandas as pd\n",
    "from PIL import Image\n",
    "from pathlib import Path"
   ]
  },
  {
   "cell_type": "code",
   "execution_count": 18,
   "metadata": {},
   "outputs": [
    {
     "name": "stdout",
     "output_type": "stream",
     "text": [
      "54   260\n",
      "465   257\n",
      "54   304\n",
      "58   624\n",
      "58   666\n",
      "470   670\n",
      "462   258\n",
      "462   260\n",
      "465   299\n",
      "465   625\n"
     ]
    }
   ],
   "source": [
    "def click_event(event, x, y, flags, params):\n",
    " \n",
    "    # checking for left mouse clicks\n",
    "    if event == cv2.EVENT_LBUTTONDOWN:\n",
    " \n",
    "        # displaying the coordinates\n",
    "        # on the Shell\n",
    "        print(x, ' ', y)\n",
    " \n",
    "        # displaying the coordinates\n",
    "        # on the image window\n",
    "        font = cv2.FONT_HERSHEY_SIMPLEX\n",
    "        cv2.putText(img, str(x) + ',' +\n",
    "                    str(y), (x,y), font,\n",
    "                    1, (0, 0, 0), 2)\n",
    "        cv2.imshow('image', img)\n",
    " \n",
    "    # checking for right mouse clicks    \n",
    "    if event==cv2.EVENT_RBUTTONDOWN:\n",
    " \n",
    "        # displaying the coordinates\n",
    "        # on the Shell\n",
    "        print(x, ' ', y)\n",
    " \n",
    "        # displaying the coordinates\n",
    "        # on the image window\n",
    "        font = cv2.FONT_HERSHEY_SIMPLEX\n",
    "        b = img[y, x, 0]\n",
    "        g = img[y, x, 1]\n",
    "        r = img[y, x, 2]\n",
    "        cv2.putText(img, str(b) + ',' +\n",
    "                    str(g) + ',' + str(r),\n",
    "                    (x,y), font, 1,\n",
    "                    (255, 255, 0), 2)\n",
    "        cv2.imshow('image', img)\n",
    " \n",
    "# driver function\n",
    "if __name__==\"__main__\":\n",
    " \n",
    "    # reading the image\n",
    "    img = cv2.imread('./GTNEO3T_ISO100_SS1-30_WB5000/IMG20221103153233.jpg',0)\n",
    "    img = cv2.resize(img, (0, 0), fx=0.2, fy=0.2)\n",
    " \n",
    "    # displaying the image\n",
    "    cv2.imshow('image', img)\n",
    " \n",
    "    # setting mouse handler for the image\n",
    "    # and calling the click_event() function\n",
    "    cv2.setMouseCallback('image', click_event)\n",
    " \n",
    "    # wait for a key to be pressed to exit\n",
    "    cv2.waitKey(0)\n",
    " \n",
    "    # close the window\n",
    "    cv2.destroyAllWindows()"
   ]
  },
  {
   "cell_type": "code",
   "execution_count": 22,
   "metadata": {},
   "outputs": [],
   "source": [
    "cropped = []\n",
    "for i in range(len(filename_list)):\n",
    "    img = cv2.imread(f'./GTNEO3T_ISO100_SS1-30_WB5000/{filename_list[i]}',0)\n",
    "    cropped.append(cv2.resize(img[260*5:665*5, 60*5:465*5], (370,370), interpolation=cv2.INTER_NEAREST))\n",
    "    Image.fromarray(cropped[count]).save(\"GTNEO3T_ISO100_SS1-30_WB5000/CROPPED/\"+f\"data_{filename_list[i]}_COPY1.png\")"
   ]
  },
  {
   "cell_type": "code",
   "execution_count": 25,
   "metadata": {},
   "outputs": [
    {
     "data": {
      "text/plain": [
       "40"
      ]
     },
     "execution_count": 25,
     "metadata": {},
     "output_type": "execute_result"
    }
   ],
   "source": [
    "len(cropped)"
   ]
  },
  {
   "cell_type": "code",
   "execution_count": null,
   "metadata": {},
   "outputs": [],
   "source": []
  }
 ],
 "metadata": {
  "kernelspec": {
   "display_name": "base",
   "language": "python",
   "name": "python3"
  },
  "language_info": {
   "codemirror_mode": {
    "name": "ipython",
    "version": 3
   },
   "file_extension": ".py",
   "mimetype": "text/x-python",
   "name": "python",
   "nbconvert_exporter": "python",
   "pygments_lexer": "ipython3",
   "version": "3.9.7"
  },
  "orig_nbformat": 4,
  "vscode": {
   "interpreter": {
    "hash": "ad2bdc8ecc057115af97d19610ffacc2b4e99fae6737bb82f5d7fb13d2f2c186"
   }
  }
 },
 "nbformat": 4,
 "nbformat_minor": 2
}
