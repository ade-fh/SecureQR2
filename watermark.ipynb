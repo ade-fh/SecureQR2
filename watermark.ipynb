{
 "cells": [
  {
   "cell_type": "code",
   "execution_count": 30,
   "metadata": {},
   "outputs": [],
   "source": [
    "import numpy as np\n",
    "import matplotlib.pyplot as plt\n",
    "import qrcode\n",
    "from PIL import Image"
   ]
  },
  {
   "cell_type": "code",
   "execution_count": 31,
   "metadata": {},
   "outputs": [],
   "source": [
    "\n",
    "def generate_watermark(data,secret,quant=16,size=(100,100),rprop=100):\n",
    "    dist  = [0 if i==0 else int(i*256/quant)-1 for i in range(quant+1)]\n",
    "    np.random.seed(abs(hash(data+secret))%2**32)\n",
    "    p=np.random.choice([i for i in range(rprop)],size = 17)\n",
    "    p=p/p.sum()\n",
    "    watermark = np.random.choice(dist,size=size,p=p)\n",
    "    return watermark.astype('uint8')"
   ]
  },
  {
   "cell_type": "code",
   "execution_count": 32,
   "metadata": {},
   "outputs": [],
   "source": [
    "SECRET=\"rahasia\"\n",
    "def make_secureQR(data:str,secret:str=SECRET,border=8,**kwargs)-> np.ndarray:\n",
    "    img = qrcode.make(data,version=3,error_correction=qrcode.constants.ERROR_CORRECT_H)\n",
    "    img = np.asanyarray(img).astype('uint8')*255\n",
    "    watermark = generate_watermark(data,secret,**kwargs)\n",
    "\n",
    "    # add border watermark 8\n",
    "    length = watermark.shape[0] + border\n",
    "    loc = img.shape[0]//2 - length//2\n",
    "    wm = np.ones((length,length),dtype='uint8')*255\n",
    "    wm[4:-4,4:-4] = watermark\n",
    "    img[loc:loc+length,loc:loc+length]=wm\n",
    "    return img"
   ]
  },
  {
   "cell_type": "code",
   "execution_count": 33,
   "metadata": {},
   "outputs": [
    {
     "data": {
      "image/png": "[encoded data removed]",
      "text/plain": [
       "<PIL.Image.Image image mode=L size=370x370 at 0x26D93113DF0>"
      ]
     },
     "execution_count": 33,
     "metadata": {},
     "output_type": "execute_result"
    }
   ],
   "source": [
    "img = make_secureQR(\"halo0001\",quant=16)\n",
    "im = Image.fromarray(img)\n",
    "im"
   ]
  },
  {
   "cell_type": "code",
   "execution_count": 38,
   "metadata": {},
   "outputs": [
    {
     "name": "stdout",
     "output_type": "stream",
     "text": [
      "0 1 2 3 4 5 6 7 8 9 10 11 12 13 14 15 16 17 18 19 20 21 22 23 24 25 26 27 28 29 30 31 32 33 34 35 36 37 38 39 40 41 42 43 44 45 46 47 48 49 50 51 52 53 54 55 56 57 58 59 60 61 62 63 64 65 66 67 68 69 70 71 72 73 74 75 76 77 78 79 80 81 82 83 84 85 86 87 88 89 90 91 92 93 94 95 96 97 98 99 "
     ]
    }
   ],
   "source": [
    "# generate batch of images\n",
    "import pathlib\n",
    "import numpy as np\n",
    "from pathlib import Path\n",
    "\n",
    "path =Path(\"watermark\")\n",
    "\n",
    "rows = []\n",
    "for i in range(100): \n",
    "    print(i,end=' ')\n",
    "    for j in range(2):\n",
    "        col = []\n",
    "        for k in range(5):\n",
    "            img = make_secureQR(f'{i+1:03}',quant=16)\n",
    "            col.append(img)\n",
    "        rows.append(np.hstack(col))\n",
    "    if (i+1)%4 ==0:\n",
    "        rows.append(np.ones((10,rows[0].shape[1]),dtype='uint8'))\n",
    "        grid = np.vstack(rows)\n",
    "\n",
    "        Image.fromarray(grid).save(path/f\"{i-2:03}_{i+1}.pdf\")\n",
    "        rows=[]"
   ]
  },
  {
   "cell_type": "code",
   "execution_count": 37,
   "metadata": {},
   "outputs": [
    {
     "data": {
      "text/plain": [
       "(2970, 1850)"
      ]
     },
     "execution_count": 37,
     "metadata": {},
     "output_type": "execute_result"
    }
   ],
   "source": [
    "grid.shape"
   ]
  },
  {
   "cell_type": "code",
   "execution_count": 11,
   "metadata": {},
   "outputs": [],
   "source": [
    "from PIL import Image\n",
    "im = Image.fromarray(img)\n",
    "im.save('qr1.pdf')"
   ]
  },
  {
   "cell_type": "code",
   "execution_count": 15,
   "metadata": {},
   "outputs": [
    {
     "data": {
      "text/plain": [
       "370"
      ]
     },
     "execution_count": 15,
     "metadata": {},
     "output_type": "execute_result"
    }
   ],
   "source": [
    "# 1 inch = 25.4 mm\n",
    "img.shape[0]"
   ]
  },
  {
   "cell_type": "code",
   "execution_count": 92,
   "metadata": {},
   "outputs": [
    {
     "data": {
      "text/plain": [
       "(array([2084.,  948.,  838., 1180.,    0.,  391.,  999.,  243.,   48.,\n",
       "         626.,    0.,    8., 1310.,  148.,  723.,  454.]),\n",
       " array([0.    , 0.0625, 0.125 , 0.1875, 0.25  , 0.3125, 0.375 , 0.4375,\n",
       "        0.5   , 0.5625, 0.625 , 0.6875, 0.75  , 0.8125, 0.875 , 0.9375,\n",
       "        1.    ]),\n",
       " <BarContainer object of 16 artists>)"
      ]
     },
     "execution_count": 92,
     "metadata": {},
     "output_type": "execute_result"
    },
    {
     "data": {
      "image/png": "[encoded data removed]",
      "text/plain": [
       "<Figure size 432x288 with 1 Axes>"
      ]
     },
     "metadata": {
      "needs_background": "light"
     },
     "output_type": "display_data"
    }
   ],
   "source": [
    "plt.hist(watermark.ravel()/watermark.max(),bins=16)"
   ]
  }
 ],
 "metadata": {
  "kernelspec": {
   "display_name": "Python 3.8.5 ('base')",
   "language": "python",
   "name": "python3"
  },
  "language_info": {
   "codemirror_mode": {
    "name": "ipython",
    "version": 3
   },
   "file_extension": ".py",
   "mimetype": "text/x-python",
   "name": "python",
   "nbconvert_exporter": "python",
   "pygments_lexer": "ipython3",
   "version": "3.8.5"
  },
  "orig_nbformat": 4,
  "vscode": {
   "interpreter": {
    "hash": "631926b96873d2007fbe5ba14401cac9ce99e5e76ded0bffc18be58f3fefa61b"
   }
  }
 },
 "nbformat": 4,
 "nbformat_minor": 2
}
