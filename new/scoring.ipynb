{
 "cells": [
  {
   "cell_type": "code",
   "execution_count": 1,
   "metadata": {},
   "outputs": [],
   "source": [
    "import requests\n",
    "import os"
   ]
  },
  {
   "cell_type": "code",
   "execution_count": 7,
   "metadata": {},
   "outputs": [],
   "source": [
    "def scoring_and_rename(path,type):\n",
    "  directory = f'{path}/'  \n",
    "  filename_list = os.listdir(directory)\n",
    "  filename_list = [f for f in filename_list if os.path.isfile(directory+'/'+f)]\n",
    "  print(filename_list, len(filename_list))\n",
    "  score = []\n",
    "  for i in range(80):    \n",
    "    url = 'http://localhost:8000/verify_wsqr?v=3&quant=8&pct=0.2'\n",
    "    try:\n",
    "      files = {'file': open(f\"./{path}/{filename_list[i]}\", \"rb\")}\n",
    "      response = requests.post(url, files = files)\n",
    "      files['file'].close()\n",
    "      data = response.json()['data']      \n",
    "    except:\n",
    "      print(f\"file load ./{path}/{filename_list[i]} error!\")\n",
    "      continue\n",
    "    try:\n",
    "      os.rename(f'./{path}/{filename_list[i]}',f'./{path}/{data}_{type}.png')\n",
    "    except:\n",
    "      print(f\"rename ./{path}/{filename_list[i]} error!\")\n",
    "      continue\n",
    "    try:\n",
    "      score.append({'data': response.json()['data'], 'distance': response.json()['distance']})\n",
    "    except:\n",
    "      print(f\"json data ./{path}/{filename_list[i]} error!\")\n",
    "      continue\n",
    "  return score"
   ]
  },
  {
   "cell_type": "code",
   "execution_count": 8,
   "metadata": {},
   "outputs": [
    {
     "name": "stdout",
     "output_type": "stream",
     "text": [
      "['0_ORI.png', '10_ORI.png', '11_ORI.png', '12_ORI.png', '13_ORI.png', '14_ORI.png', '15_ORI.png', '16_ORI.png', '17_ORI.png', '18_ORI.png', '19_ORI.png', '1_ORI.png', '20_ORI.png', '21_ORI.png', '22_ORI.png', '23_ORI.png', '24_ORI.png', '25_ORI.png', '26_ORI.png', '27_ORI.png', '28_ORI.png', '29_ORI.png', '2_ORI.png', '30_ORI.png', '31_ORI.png', '32_ORI.png', '33_ORI.png', '34_ORI.png', '35_ORI.png', '36_ORI.png', '37_ORI.png', '38_ORI.png', '39_ORI.png', '3_ORI.png', '40_ORI.png', '41_ORI.png', '42_ORI.png', '43_ORI.png', '44_ORI.png', '45_ORI.png', '46_ORI.png', '47_ORI.png', '48_ORI.png', '49_ORI.png', '4_ORI.png', '50_ORI.png', '51_ORI.png', '52_ORI.png', '53_ORI.png', '54_ORI.png', '55_ORI.png', '56_ORI.png', '57_ORI.png', '58_ORI.png', '59_ORI.png', '5_ORI.png', '60_ORI.png', '61_ORI.png', '62_ORI.png', '63_ORI.png', '64_ORI.png', '65_ORI.png', '66_ORI.png', '67_ORI.png', '68_ORI.png', '69_ORI.png', '6_ORI.png', '70_ORI.png', '71_ORI.png', '72_ORI.png', '73_ORI.png', '74_ORI.png', '75_ORI.png', '76_ORI.png', '77_ORI.png', '78_ORI.png', '79_ORI.png', '7_ORI.png', '8_ORI.png', '9_ORI.png'] 80\n",
      "file load ./CROPPED_ORI_UNSCALED_081_120/13_ORI.png error!\n",
      "rename ./CROPPED_ORI_UNSCALED_081_120/61_ORI.png error!\n",
      "file load ./CROPPED_ORI_UNSCALED_081_120/69_ORI.png error!\n"
     ]
    }
   ],
   "source": [
    "score = scoring_and_rename('CROPPED_ORI_UNSCALED_081_120','ORI')"
   ]
  },
  {
   "cell_type": "code",
   "execution_count": 15,
   "metadata": {},
   "outputs": [
    {
     "name": "stdout",
     "output_type": "stream",
     "text": [
      "[{'data': 'data_051', 'distance': 0.052160489908203864}, {'data': 'data_046', 'distance': 0.1338530633799252}, {'data': 'data_041', 'distance': 0.1593288936071149}, {'data': 'data_075', 'distance': 0.07014086474373436}, {'data': 'data_056', 'distance': 0.11251107878066596}, {'data': 'data_061', 'distance': 0.17331710232244923}, {'data': 'data_066', 'distance': 0.060725016472143824}, {'data': 'data_071', 'distance': 0.12841048092174237}, {'data': 'data_042', 'distance': 0.06845439373905367}, {'data': 'data_047', 'distance': 0.11438427869328861}, {'data': 'data_052', 'distance': 0.18274596185396463}, {'data': 'data_057', 'distance': 0.1529994758615316}, {'data': 'data_062', 'distance': 0.07196662024335657}, {'data': 'data_067', 'distance': 0.05122913721871007}, {'data': 'data_072', 'distance': 0.16360789530819972}, {'data': 'data_054', 'distance': 0.14250970802815033}, {'data': 'data_059', 'distance': 0.2084923274254955}, {'data': 'data_043', 'distance': 0.11939726127444572}, {'data': 'data_048', 'distance': 0.15699755140375674}, {'data': 'data_053', 'distance': 0.1620121148680837}, {'data': 'data_058', 'distance': 0.08956538797388232}, {'data': 'data_063', 'distance': 0.06692656743251309}, {'data': 'data_068', 'distance': 0.17205645017989862}, {'data': 'data_073', 'distance': 0.09930591448856757}, {'data': 'data_064', 'distance': 0.16171902784849404}, {'data': 'data_069', 'distance': 0.12009806305683264}, {'data': 'data_074', 'distance': 0.10152180939400973}, {'data': 'data_050', 'distance': 0.09825387963735036}, {'data': 'data_055', 'distance': 0.13094589898713302}, {'data': 'data_060', 'distance': 0.1306164765920845}, {'data': 'data_065', 'distance': 0.0902105683855677}, {'data': 'data_070', 'distance': 0.1383966811536027}, {'data': 'data_045', 'distance': 0.13052812124309518}, {'data': 'data_044', 'distance': 0.11698079746815754}, {'data': 'data_049', 'distance': 0.10511565989793686}, {'data': 'data_077', 'distance': 0.15474283364170605}, {'data': 'data_078', 'distance': 0.1406896341996869}, {'data': 'data_079', 'distance': 0.09391308805491012}, {'data': 'data_080', 'distance': 0.06116283857257144}, {'data': 'data_076', 'distance': 0.0659968794658315}]\n"
     ]
    },
    {
     "data": {
      "text/plain": [
       "40"
      ]
     },
     "execution_count": 15,
     "metadata": {},
     "output_type": "execute_result"
    }
   ],
   "source": [
    "print(score)\n",
    "len(score)"
   ]
  },
  {
   "cell_type": "code",
   "execution_count": 3,
   "metadata": {},
   "outputs": [],
   "source": [
    "import requests\n",
    "import os\n",
    "\n",
    "def scoring():\n",
    "  score = []\n",
    "  for i in range(40):    \n",
    "    url = 'http://localhost:8000/verify_wsqr?v=3&quant=16&pct=0.2'\n",
    "    files = {'file': open(f\"./CROPPED_ORI_041_080/{filename_list[i]}\", \"rb\")}\n",
    "    response = requests.post(url, files = files)\n",
    "    files['file'].close()\n",
    "    data = response.json()['data']\n",
    "    try:\n",
    "      os.rename(f'./CROPPED_ORI_041_080/{filename_list[i]}',f'./CROPPED_ORI_041_080/{data}_ORI.png')\n",
    "    except:\n",
    "      pass\n",
    "    try:\n",
    "      score.append({'data': response.json()['data'], 'distance': response.json()['distance']})\n",
    "    except:\n",
    "      continue\n",
    "  return score\n",
    "\n",
    "def scoring2():\n",
    "  score = []\n",
    "  for i in range(40):    \n",
    "    url = 'http://localhost:8000/verify_wsqr?v=3&quant=8&pct=0.2'\n",
    "    files = {'file': open(f\"./cropped_without_scaling_photos_2/data_{i+1:03}_2.png\", \"rb\")}\n",
    "    response = requests.post(url, files = files)\n",
    "    files['file'].close()\n",
    "    # data = response.json()['data']\n",
    "    # try:\n",
    "    #   os.rename(f'./cropped_without_scaling_photos_1/{filename_list[i]}',f'./cropped_without_scaling_photos_1/{data}_1.png')\n",
    "    # except:\n",
    "    #   pass\n",
    "    try:\n",
    "      score.append({'data': response.json()['data'], 'distance': response.json()['distance']})\n",
    "    except:\n",
    "      continue\n",
    "  return score"
   ]
  },
  {
   "cell_type": "code",
   "execution_count": 4,
   "metadata": {},
   "outputs": [
    {
     "ename": "KeyError",
     "evalue": "'data'",
     "output_type": "error",
     "traceback": [
      "\u001b[1;31m---------------------------------------------------------------------------\u001b[0m",
      "\u001b[1;31mKeyError\u001b[0m                                  Traceback (most recent call last)",
      "\u001b[1;32m~\\AppData\\Local\\Temp/ipykernel_19104/4092732526.py\u001b[0m in \u001b[0;36m<module>\u001b[1;34m\u001b[0m\n\u001b[1;32m----> 1\u001b[1;33m \u001b[0mscore\u001b[0m \u001b[1;33m=\u001b[0m \u001b[0mscoring\u001b[0m\u001b[1;33m(\u001b[0m\u001b[1;33m)\u001b[0m\u001b[1;33m\u001b[0m\u001b[1;33m\u001b[0m\u001b[0m\n\u001b[0m",
      "\u001b[1;32m~\\AppData\\Local\\Temp/ipykernel_19104/1996619452.py\u001b[0m in \u001b[0;36mscoring\u001b[1;34m()\u001b[0m\n\u001b[0;32m      9\u001b[0m     \u001b[0mresponse\u001b[0m \u001b[1;33m=\u001b[0m \u001b[0mrequests\u001b[0m\u001b[1;33m.\u001b[0m\u001b[0mpost\u001b[0m\u001b[1;33m(\u001b[0m\u001b[0murl\u001b[0m\u001b[1;33m,\u001b[0m \u001b[0mfiles\u001b[0m \u001b[1;33m=\u001b[0m \u001b[0mfiles\u001b[0m\u001b[1;33m)\u001b[0m\u001b[1;33m\u001b[0m\u001b[1;33m\u001b[0m\u001b[0m\n\u001b[0;32m     10\u001b[0m     \u001b[0mfiles\u001b[0m\u001b[1;33m[\u001b[0m\u001b[1;34m'file'\u001b[0m\u001b[1;33m]\u001b[0m\u001b[1;33m.\u001b[0m\u001b[0mclose\u001b[0m\u001b[1;33m(\u001b[0m\u001b[1;33m)\u001b[0m\u001b[1;33m\u001b[0m\u001b[1;33m\u001b[0m\u001b[0m\n\u001b[1;32m---> 11\u001b[1;33m     \u001b[0mdata\u001b[0m \u001b[1;33m=\u001b[0m \u001b[0mresponse\u001b[0m\u001b[1;33m.\u001b[0m\u001b[0mjson\u001b[0m\u001b[1;33m(\u001b[0m\u001b[1;33m)\u001b[0m\u001b[1;33m[\u001b[0m\u001b[1;34m'data'\u001b[0m\u001b[1;33m]\u001b[0m\u001b[1;33m\u001b[0m\u001b[1;33m\u001b[0m\u001b[0m\n\u001b[0m\u001b[0;32m     12\u001b[0m     \u001b[1;32mtry\u001b[0m\u001b[1;33m:\u001b[0m\u001b[1;33m\u001b[0m\u001b[1;33m\u001b[0m\u001b[0m\n\u001b[0;32m     13\u001b[0m       \u001b[0mos\u001b[0m\u001b[1;33m.\u001b[0m\u001b[0mrename\u001b[0m\u001b[1;33m(\u001b[0m\u001b[1;34mf'./CROPPED_ORI_041_080/{filename_list[i]}'\u001b[0m\u001b[1;33m,\u001b[0m\u001b[1;34mf'./CROPPED_ORI_041_080/{data}_ORI.png'\u001b[0m\u001b[1;33m)\u001b[0m\u001b[1;33m\u001b[0m\u001b[1;33m\u001b[0m\u001b[0m\n",
      "\u001b[1;31mKeyError\u001b[0m: 'data'"
     ]
    }
   ],
   "source": [
    "score = scoring()"
   ]
  },
  {
   "cell_type": "code",
   "execution_count": 13,
   "metadata": {},
   "outputs": [],
   "source": [
    "files = {'file': open(f\"./cropped_without_scaling_photos_1/{filename_list[0]}\", \"rb\")}\n",
    "files['file'].close()"
   ]
  },
  {
   "cell_type": "code",
   "execution_count": 16,
   "metadata": {},
   "outputs": [],
   "source": [
    "files['file'].close()"
   ]
  },
  {
   "cell_type": "code",
   "execution_count": 17,
   "metadata": {},
   "outputs": [
    {
     "data": {
      "text/plain": [
       "<_io.BufferedReader name='./cropped_without_scaling_photos_1/data_IMG20221103153233.jpg_photo1.png'>"
      ]
     },
     "execution_count": 17,
     "metadata": {},
     "output_type": "execute_result"
    }
   ],
   "source": [
    "files['file']"
   ]
  },
  {
   "cell_type": "code",
   "execution_count": 10,
   "metadata": {},
   "outputs": [
    {
     "name": "stdout",
     "output_type": "stream",
     "text": [
      "[{'data': 'data_001', 'distance': 0.1342987193188808}, {'data': 'data_002', 'distance': 0.1381673720655975}, {'data': 'data_003', 'distance': 0.06084288821235298}, {'data': 'data_004', 'distance': 0.13112884419446771}, {'data': 'data_005', 'distance': 0.09108347858451751}, {'data': 'data_006', 'distance': 0.11817796647035564}, {'data': 'data_007', 'distance': 0.08270813058291204}, {'data': 'data_008', 'distance': 0.10420090128311836}, {'data': 'data_009', 'distance': 0.12164260679123517}, {'data': 'data_010', 'distance': 0.1283765398904375}, {'data': 'data_011', 'distance': 0.1209362088358419}, {'data': 'data_012', 'distance': 0.12377449552738791}, {'data': 'data_013', 'distance': 0.10960708662312743}, {'data': 'data_014', 'distance': 0.10750714513625971}, {'data': 'data_015', 'distance': 0.11799275868486603}, {'data': 'data_016', 'distance': 0.13884427539384608}, {'data': 'data_017', 'distance': 0.08049249112929152}, {'data': 'data_018', 'distance': 0.14370157270020573}, {'data': 'data_019', 'distance': 0.13688760661602198}, {'data': 'data_020', 'distance': 0.11969579381481343}, {'data': 'data_021', 'distance': 0.1220532469104392}, {'data': 'data_022', 'distance': 0.0644794974816566}, {'data': 'data_023', 'distance': 0.15353637089918393}, {'data': 'data_024', 'distance': 0.0865225520803365}, {'data': 'data_025', 'distance': 0.09580951878126172}, {'data': 'data_026', 'distance': 0.08294723131333132}, {'data': 'data_027', 'distance': 0.08618982629060273}, {'data': 'data_028', 'distance': 0.12999638965694224}, {'data': 'data_029', 'distance': 0.11805379560735281}, {'data': 'data_030', 'distance': 0.10659538121245761}, {'data': 'data_031', 'distance': 0.13392057551708145}, {'data': 'data_032', 'distance': 0.16200051037066737}, {'data': 'data_033', 'distance': 0.09471121763266802}, {'data': 'data_034', 'distance': 0.12523703917071613}, {'data': 'data_035', 'distance': 0.13245622506732543}, {'data': 'data_036', 'distance': 0.11909121909191318}, {'data': 'data_037', 'distance': 0.05952023985394256}, {'data': 'data_038', 'distance': 0.14239832204526567}, {'data': 'data_039', 'distance': 0.11422980933652079}, {'data': 'data_040', 'distance': 0.07846879659439067}]\n"
     ]
    }
   ],
   "source": [
    "score = scoring2()\n",
    "print(score)"
   ]
  },
  {
   "cell_type": "code",
   "execution_count": 14,
   "metadata": {},
   "outputs": [
    {
     "name": "stdout",
     "output_type": "stream",
     "text": [
      "[{'data': 'data_001', 'distance': 0.06736581287773599}, {'data': 'data_002', 'distance': 0.09125692459309916}, {'data': 'data_003', 'distance': 0.15259636324841633}, {'data': 'data_004', 'distance': 0.1256571694130413}, {'data': 'data_005', 'distance': 0.13938286944896916}, {'data': 'data_006', 'distance': 0.10023173736323766}, {'data': 'data_007', 'distance': 0.12037746124986204}, {'data': 'data_008', 'distance': 0.255888643642842}, {'data': 'data_009', 'distance': 0.13744732493974715}, {'data': 'data_010', 'distance': 0.19015777187140698}, {'data': 'data_011', 'distance': 0.2027503059714686}, {'data': 'data_012', 'distance': 0.14705055835515068}, {'data': 'data_013', 'distance': 0.15896179980214703}, {'data': 'data_014', 'distance': 0.11116668378816273}, {'data': 'data_015', 'distance': 0.11699081123203738}, {'data': 'data_016', 'distance': 0.1437233772797796}, {'data': 'data_017', 'distance': 0.17752514944779643}, {'data': 'data_018', 'distance': 0.0636239258888458}, {'data': 'data_019', 'distance': 0.16420462794669605}, {'data': 'data_020', 'distance': 0.16200635735045435}, {'data': 'data_021', 'distance': 0.11629617131354202}, {'data': 'data_022', 'distance': 0.03336218987445444}, {'data': 'data_023', 'distance': 0.24542761783324518}, {'data': 'data_024', 'distance': 0.10692288814481207}, {'data': 'data_025', 'distance': 0.2274201539804055}, {'data': 'data_026', 'distance': 0.11521837609737527}, {'data': 'data_027', 'distance': 0.11054434431930099}, {'data': 'data_028', 'distance': 0.13164171395017846}, {'data': 'data_029', 'distance': 0.10154903872438903}, {'data': 'data_030', 'distance': 0.18703230241347085}, {'data': 'data_031', 'distance': 0.09323914540549981}, {'data': 'data_032', 'distance': 0.09034939070550463}, {'data': 'data_033', 'distance': 0.06969355785029367}, {'data': 'data_034', 'distance': 0.2247489092878439}, {'data': 'data_035', 'distance': 0.11234560750037147}, {'data': 'data_036', 'distance': 0.08439799737672624}, {'data': 'data_037', 'distance': 0.11835382581014808}, {'data': 'data_038', 'distance': 0.1467231597611347}, {'data': 'data_039', 'distance': 0.1468630571257839}, {'data': 'data_040', 'distance': 0.16060605231128092}]\n"
     ]
    }
   ],
   "source": [
    "score = scoring2()\n",
    "print(score)"
   ]
  },
  {
   "cell_type": "code",
   "execution_count": 21,
   "metadata": {},
   "outputs": [
    {
     "data": {
      "text/plain": [
       "40"
      ]
     },
     "execution_count": 21,
     "metadata": {},
     "output_type": "execute_result"
    }
   ],
   "source": [
    "len(score)"
   ]
  },
  {
   "cell_type": "code",
   "execution_count": 6,
   "metadata": {},
   "outputs": [],
   "source": [
    "import os"
   ]
  },
  {
   "cell_type": "code",
   "execution_count": 25,
   "metadata": {},
   "outputs": [
    {
     "ename": "FileExistsError",
     "evalue": "[WinError 183] Cannot create a file when that file already exists: './cropped_without_scaling_photos_2/3_photo_2.png' -> './cropped_without_scaling_photos_2/data_040_2.png'",
     "output_type": "error",
     "traceback": [
      "\u001b[1;31m---------------------------------------------------------------------------\u001b[0m",
      "\u001b[1;31mFileExistsError\u001b[0m                           Traceback (most recent call last)",
      "\u001b[1;32m~\\AppData\\Local\\Temp/ipykernel_18536/256861740.py\u001b[0m in \u001b[0;36m<module>\u001b[1;34m\u001b[0m\n\u001b[1;32m----> 1\u001b[1;33m \u001b[0mos\u001b[0m\u001b[1;33m.\u001b[0m\u001b[0mrename\u001b[0m\u001b[1;33m(\u001b[0m\u001b[1;34m'./cropped_without_scaling_photos_2/3_photo_2.png'\u001b[0m\u001b[1;33m,\u001b[0m\u001b[1;34m'./cropped_without_scaling_photos_2/data_040_2.png'\u001b[0m\u001b[1;33m)\u001b[0m\u001b[1;33m\u001b[0m\u001b[1;33m\u001b[0m\u001b[0m\n\u001b[0m",
      "\u001b[1;31mFileExistsError\u001b[0m: [WinError 183] Cannot create a file when that file already exists: './cropped_without_scaling_photos_2/3_photo_2.png' -> './cropped_without_scaling_photos_2/data_040_2.png'"
     ]
    }
   ],
   "source": [
    "os.rename('./cropped_without_scaling_photos_2/3_photo_2.png','./cropped_without_scaling_photos_2/data_040_2.png')"
   ]
  },
  {
   "cell_type": "code",
   "execution_count": null,
   "metadata": {},
   "outputs": [],
   "source": []
  }
 ],
 "metadata": {
  "kernelspec": {
   "display_name": "Python 3.9.7 ('base')",
   "language": "python",
   "name": "python3"
  },
  "language_info": {
   "codemirror_mode": {
    "name": "ipython",
    "version": 3
   },
   "file_extension": ".py",
   "mimetype": "text/x-python",
   "name": "python",
   "nbconvert_exporter": "python",
   "pygments_lexer": "ipython3",
   "version": "3.9.7"
  },
  "orig_nbformat": 4,
  "vscode": {
   "interpreter": {
    "hash": "ad2bdc8ecc057115af97d19610ffacc2b4e99fae6737bb82f5d7fb13d2f2c186"
   }
  }
 },
 "nbformat": 4,
 "nbformat_minor": 2
}
